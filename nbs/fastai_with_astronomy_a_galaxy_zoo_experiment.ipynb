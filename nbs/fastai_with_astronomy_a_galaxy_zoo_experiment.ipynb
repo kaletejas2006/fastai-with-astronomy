{
  "metadata": {
    "kernelspec": {
      "language": "python",
      "display_name": "Python 3",
      "name": "python3"
    },
    "language_info": {
      "pygments_lexer": "ipython3",
      "nbconvert_exporter": "python",
      "version": "3.6.4",
      "file_extension": ".py",
      "codemirror_mode": {
        "name": "ipython",
        "version": 3
      },
      "name": "python",
      "mimetype": "text/x-python"
    },
    "colab": {
      "name": "fastai-with-astronomy-a-galaxy-zoo-experiment.ipynb",
      "provenance": [],
      "collapsed_sections": []
    }
  },
  "nbformat_minor": 0,
  "nbformat": 4,
  "cells": [
    {
      "cell_type": "markdown",
      "source": [
        "# fastai with Astronomy\n",
        "\n",
        "I am interested in pursuing a PhD in astronomy with a focus on machine learning. While I have experience with machine learning, I know almost nothing about astronomy. To fill the gap, I plan to take up two broad tasks:\n",
        "- Learn traditional astronomy through courses (like [Crash Course Astronomy](https://thecrashcourse.com/topic/astronomy/)) and reading popular science books (like [Astrophysics for people in a hurry](https://en.wikipedia.org/wiki/Astrophysics_for_People_in_a_Hurry)).\n",
        "- Take freely available astronomy data and apply ML/DL techniques to answer questions that arise from the data.\n",
        "\n",
        "This notebook is an adaptation of the first [lesson](https://www.youtube.com/watch?v=8SF_h3xF3cE) of fastai's course [Practical Deep Learning for Coders](https://course.fast.ai). It will detail the results of my experiments with building a classifier for labelling images of galaxies. The data for the same comes from [Galaxy Zoo - The Galaxy Challenge](https://www.kaggle.com/c/galaxy-zoo-the-galaxy-challenge), a competition hosted on Kaggle 8 years ago to \"Classify the morphologies of distant galaxies in our Universe\". This classifier is built using the fastai [library](https://github.com/fastai/fastai).\n",
        "\n",
        "In addition, this notebook also contains my thoughts and observations from the first lesson of the course and the first chapter of the book [Deep Learning for Coders with Fastai and Pytorch: AI Applications Without a PhD - Chapter 1](https://colab.research.google.com/github/fastai/fastbook/blob/master/01_intro.ipynb)."
      ],
      "metadata": {
        "id": "6LVAugCg_zdc"
      }
    },
    {
      "cell_type": "markdown",
      "source": [
        "## Requirements\n",
        "\n",
        "If we are running this notebook on Kaggle, the following code snippet will check if our notebook server has internet access. Access to internet is required in order to install packages via `pip` or `conda`. On Google Colab, internet access is enabled by default."
      ],
      "metadata": {
        "id": "2js172tW9fDy"
      }
    },
    {
      "cell_type": "code",
      "source": [
        "#NB: Kaggle requires phone verification to use the internet or a GPU. If you haven't done that yet, the cell below will fail\n",
        "#    This code is only here to check that your internet is enabled. It doesn't do anything else.\n",
        "#    Here's a help thread on getting your phone number verified: https://www.kaggle.com/product-feedback/135367\n",
        "\n",
        "# import socket,warnings\n",
        "# try:\n",
        "#     socket.setdefaulttimeout(1)\n",
        "#     socket.socket(socket.AF_INET, socket.SOCK_STREAM).connect(('1.1.1.1', 53))\n",
        "# except socket.error as ex: raise Exception(\"STOP: No internet. Click '>|' in top right and set 'Internet' switch to on\")"
      ],
      "metadata": {
        "execution": {
          "iopub.status.busy": "2022-04-27T00:57:08.222505Z",
          "iopub.execute_input": "2022-04-27T00:57:08.223281Z",
          "iopub.status.idle": "2022-04-27T00:57:08.237722Z",
          "shell.execute_reply.started": "2022-04-27T00:57:08.223237Z",
          "shell.execute_reply": "2022-04-27T00:57:08.237076Z"
        },
        "trusted": true,
        "id": "n9pMDuqK_zde"
      },
      "execution_count": null,
      "outputs": []
    },
    {
      "cell_type": "markdown",
      "source": [
        "In this notebook, we will build a classifier using the `fastai` library. On Google Colab, this library is installed by default. If running this notebook on Kaggle, we can run the following code block to install the library."
      ],
      "metadata": {
        "id": "nTes6PSk-X9e"
      }
    },
    {
      "cell_type": "code",
      "source": [
        "# It's a good idea to ensure you're running the latest version of any libraries you need.\n",
        "# `!pip install -Uqq <libraries>` upgrades to the latest version of <libraries>\n",
        "# NB: You can safely ignore any warnings or errors pip spits out about running as root or incompatibilities\n",
        "# import os\n",
        "# iskaggle = os.environ.get('KAGGLE_KERNEL_RUN_TYPE', '')\n",
        "\n",
        "# if iskaggle:\n",
        "#     !pip install -Uqq fastai"
      ],
      "metadata": {
        "_kg_hide-input": true,
        "_kg_hide-output": true,
        "execution": {
          "iopub.status.busy": "2022-05-03T04:14:43.765091Z",
          "iopub.execute_input": "2022-05-03T04:14:43.765359Z",
          "iopub.status.idle": "2022-05-03T04:14:54.380514Z",
          "shell.execute_reply.started": "2022-05-03T04:14:43.765329Z",
          "shell.execute_reply": "2022-05-03T04:14:54.379685Z"
        },
        "trusted": true,
        "id": "ltJizqN9_zdf"
      },
      "execution_count": null,
      "outputs": []
    },
    {
      "cell_type": "markdown",
      "source": [
        "As `fastai` is still under active development, it is a good idea to ensure that the version of the package we are using matches the latest available version. This ensures that we will be able to execute commands in the package documentation without any major hiccups. To check the latest available version, we can look at the package's PyPI [page](https://pypi.org/project/fastai/). In the following code blocks, we will check if the installed version is the latest. If not, we install the latest version and verify that the installation was complete."
      ],
      "metadata": {
        "id": "Ts043DiV-pDs"
      }
    },
    {
      "cell_type": "code",
      "source": [
        "# Based on the package's PyPI page.\n",
        "latest_fastai_version: str = \"2.7.9\""
      ],
      "metadata": {
        "id": "qnqSgigS_Ywv"
      },
      "execution_count": null,
      "outputs": []
    },
    {
      "cell_type": "code",
      "source": [
        "import fastai\n",
        "current_fastai_version: str = fastai.__version__"
      ],
      "metadata": {
        "id": "gqMHdPn-97Pa"
      },
      "execution_count": null,
      "outputs": []
    },
    {
      "cell_type": "code",
      "source": [
        "from packaging import version\n",
        "if version.parse(current_fastai_version) < version.parse(latest_fastai_version):\n",
        "    del fastai\n",
        "    !pip install -U fastai\n",
        "    import fastai\n",
        "    newly_installed_fastai_version: str = fastai.__version__\n",
        "    if version.parse(newly_installed_fastai_version) == version.parse(latest_fastai_version):\n",
        "        print(\"Congratulations! You now got the latest fastai version.\")\n",
        "else:\n",
        "    print(\"You have the latest fastai version installed. That's dope!\")"
      ],
      "metadata": {
        "colab": {
          "base_uri": "https://localhost:8080/"
        },
        "id": "CutVh1nH_wsA",
        "outputId": "0362b21c-a042-4890-ecc0-aff64252b0ff"
      },
      "execution_count": null,
      "outputs": [
        {
          "output_type": "stream",
          "name": "stdout",
          "text": [
            "You have the latest fastai version installed. That's dope!\n"
          ]
        }
      ]
    },
    {
      "cell_type": "markdown",
      "source": [
        "*Customisation*: When running this notebook on Google Colab and in Google Chrome, we can change the font type of the Markdown text as well as code by typing the URL (chrome://settings/fonts) in a tab and modifying the *Standard* and *Fixed-width* font."
      ],
      "metadata": {
        "id": "Sxa1TfE_DGCD"
      }
    },
    {
      "cell_type": "markdown",
      "source": [
        "## Data\n",
        "\n",
        "In this notebook, we will build a classifier to label galaxy images provided as part of the Kaggle competition [Galaxy Zoo - The Galaxy Challenge](https://www.kaggle.com/competitions/galaxy-zoo-the-galaxy-challenge/overview). In order to use this data for classification in Google Colab, we need to perform the following steps:\n",
        "1. Download the data from the *Data* tab of this page in ZIP format. \n",
        "2. Once downloaded, extract the ZIP file to get more ZIP files like `images_training_rev1.zip`, `central_pixel_benchmark.zip`, etc. \n",
        "3. Extract all of the ZIP files obtained in step (2) and then delete these ZIP files. \n",
        "4. Upload the data to a directory in our Google Drive. In my case, I added it to `Colab Notebooks/fastai_2022/data/galaxy-zoo-the-galaxy-challenge/`.\n",
        "5. Mount our Google Drive to Colab using the following code snippet. Here, we specify the path to our data and call it `root_dir`.\n",
        "\n",
        "When executing for the first time or in a while, the following pop-up might be shown:\n",
        "    ![colab_drive_permission.jpg](data:image/jpeg;base64,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)\n",
        "\n",
        "Click on *Connect to Google Drive*, login with your Google account, review the permissions required and click on *Allow*."
      ],
      "metadata": {
        "id": "24ENfiUoCDBU"
      }
    },
    {
      "cell_type": "code",
      "source": [
        "from google.colab import files, drive\n",
        "import sys\n",
        "\n",
        "drive.mount(\"/content/gdrive\", force_remount=True)\n",
        "root_dir = \"/content/gdrive/My Drive/Colab Notebooks/fastai_2022/data/galaxy-zoo-the-galaxy-challenge\"\n",
        "sys.path.append(root_dir)"
      ],
      "metadata": {
        "colab": {
          "base_uri": "https://localhost:8080/"
        },
        "id": "z12tj5EZFWDw",
        "outputId": "c977e330-39c1-4db8-a1f4-6d1d26be633f"
      },
      "execution_count": 12,
      "outputs": [
        {
          "output_type": "stream",
          "name": "stdout",
          "text": [
            "Mounted at /content/gdrive\n"
          ]
        }
      ]
    },
    {
      "cell_type": "markdown",
      "source": [
        "Let us now do a quick check to ensure that we are able to access the contents of this directory in the notebook."
      ],
      "metadata": {
        "id": "IpVsSPmnHnL9"
      }
    },
    {
      "cell_type": "code",
      "source": [
        "import os\n",
        "os.listdir(root_dir)"
      ],
      "metadata": {
        "colab": {
          "base_uri": "https://localhost:8080/"
        },
        "id": "MeRo3tOEHu37",
        "outputId": "19a54da4-b965-4991-a195-7c83ac2bac5e"
      },
      "execution_count": 13,
      "outputs": [
        {
          "output_type": "execute_result",
          "data": {
            "text/plain": [
              "['images_test_rev1',\n",
              " 'images_training_rev1',\n",
              " 'central_pixel_benchmark.csv',\n",
              " 'all_ones_benchmark.csv',\n",
              " 'all_zeros_benchmark.csv',\n",
              " 'training_solutions_rev1.csv']"
            ]
          },
          "metadata": {},
          "execution_count": 13
        }
      ]
    },
    {
      "cell_type": "markdown",
      "source": [
        "In 2015 the idea of creating a computer system that could recognise birds was considered so outrageously challenging that it was the basis of [this XKCD joke](https://xkcd.com/1425/):"
      ],
      "metadata": {
        "id": "AbASf9DT_zdf"
      }
    },
    {
      "cell_type": "markdown",
      "source": [
        "![image.png](attachment:a0483178-c30e-4fdd-b2c2-349e130ab260.png)"
      ],
      "metadata": {
        "id": "lmH2nlUg_zdf"
      }
    },
    {
      "cell_type": "markdown",
      "source": [
        "But today, we can do exactly that, in just a few minutes, using entirely free resources!\n",
        "\n",
        "The basic steps we'll take are:\n",
        "\n",
        "1. Use DuckDuckGo to search for images of \"bird photos\"\n",
        "1. Use DuckDuckGo to search for images of \"forest photos\"\n",
        "1. Fine-tune a pretrained neural network to recognise these two groups\n",
        "1. Try running this model on a picture of a bird and see if it works."
      ],
      "metadata": {
        "id": "MnxD9E1M_zdf"
      }
    },
    {
      "cell_type": "markdown",
      "source": [
        "## Step 1: Download images of birds and non-birds"
      ],
      "metadata": {
        "id": "iSYVS4S3_zdf"
      }
    },
    {
      "cell_type": "code",
      "source": [
        "from fastcore.all import *\n",
        "import time\n",
        "\n",
        "def search_images(term, max_images=200):\n",
        "    url = 'https://duckduckgo.com/'\n",
        "    res = urlread(url,data={'q':term})\n",
        "    searchObj = re.search(r'vqd=([\\d-]+)\\&', res)\n",
        "    requestUrl = url + 'i.js'\n",
        "    params = dict(l='us-en', o='json', q=term, vqd=searchObj.group(1), f=',,,', p='1', v7exp='a')\n",
        "    urls,data = set(),{'next':1}\n",
        "    while len(urls)<max_images and 'next' in data:\n",
        "        data = urljson(requestUrl,data=params)\n",
        "        urls.update(L(data['results']).itemgot('image'))\n",
        "        requestUrl = url + data['next']\n",
        "        time.sleep(0.2)\n",
        "    return L(urls)[:max_images]"
      ],
      "metadata": {
        "_kg_hide-input": true,
        "execution": {
          "iopub.status.busy": "2022-04-26T09:11:57.744768Z",
          "iopub.execute_input": "2022-04-26T09:11:57.745037Z",
          "iopub.status.idle": "2022-04-26T09:11:57.78719Z",
          "shell.execute_reply.started": "2022-04-26T09:11:57.745007Z",
          "shell.execute_reply": "2022-04-26T09:11:57.786556Z"
        },
        "trusted": true,
        "id": "N5ZN9F7v_zdg"
      },
      "execution_count": null,
      "outputs": []
    },
    {
      "cell_type": "markdown",
      "source": [
        "Let's start by searching for a bird photo and seeing what kind of result we get. We'll start by getting URLs from a search:"
      ],
      "metadata": {
        "id": "fHes3wyV_zdg"
      }
    },
    {
      "cell_type": "code",
      "source": [
        "urls = search_images('bird photos', max_images=1)\n",
        "urls[0]"
      ],
      "metadata": {
        "execution": {
          "iopub.status.busy": "2022-04-26T09:11:58.337717Z",
          "iopub.execute_input": "2022-04-26T09:11:58.338424Z",
          "iopub.status.idle": "2022-04-26T09:11:59.692655Z",
          "shell.execute_reply.started": "2022-04-26T09:11:58.33835Z",
          "shell.execute_reply": "2022-04-26T09:11:59.691938Z"
        },
        "trusted": true,
        "id": "TPCYG4cB_zdg"
      },
      "execution_count": null,
      "outputs": []
    },
    {
      "cell_type": "markdown",
      "source": [
        "...and then download a URL and take a look at it:"
      ],
      "metadata": {
        "id": "7lVJvem0_zdg"
      }
    },
    {
      "cell_type": "code",
      "source": [
        "from fastdownload import download_url\n",
        "dest = 'bird.jpg'\n",
        "download_url(urls[0], dest, show_progress=False)\n",
        "\n",
        "from fastai.vision.all import *\n",
        "im = Image.open(dest)\n",
        "im.to_thumb(256,256)"
      ],
      "metadata": {
        "execution": {
          "iopub.status.busy": "2022-04-26T09:12:24.818022Z",
          "iopub.execute_input": "2022-04-26T09:12:24.81828Z",
          "iopub.status.idle": "2022-04-26T09:12:27.539774Z",
          "shell.execute_reply.started": "2022-04-26T09:12:24.818251Z",
          "shell.execute_reply": "2022-04-26T09:12:27.539091Z"
        },
        "trusted": true,
        "id": "t7ZsKF3M_zdh"
      },
      "execution_count": null,
      "outputs": []
    },
    {
      "cell_type": "markdown",
      "source": [
        "Now let's do the same with \"forest photos\":"
      ],
      "metadata": {
        "id": "ugNJ6dXR_zdh"
      }
    },
    {
      "cell_type": "code",
      "source": [
        "download_url(search_images('forest photos', max_images=1)[0], 'forest.jpg', show_progress=False)\n",
        "Image.open('forest.jpg').to_thumb(256,256)"
      ],
      "metadata": {
        "execution": {
          "iopub.status.busy": "2022-04-26T09:12:32.972412Z",
          "iopub.execute_input": "2022-04-26T09:12:32.973106Z",
          "iopub.status.idle": "2022-04-26T09:12:35.706096Z",
          "shell.execute_reply.started": "2022-04-26T09:12:32.973071Z",
          "shell.execute_reply": "2022-04-26T09:12:35.705427Z"
        },
        "trusted": true,
        "id": "KFU4PNEo_zdh"
      },
      "execution_count": null,
      "outputs": []
    },
    {
      "cell_type": "markdown",
      "source": [
        "Our searches seem to be giving reasonable results, so let's grab 200 examples of each of \"bird\" and \"forest\" photos, and save each group of photos to a different folder:"
      ],
      "metadata": {
        "id": "YtVJDvse_zdh"
      }
    },
    {
      "cell_type": "code",
      "source": [
        "searches = 'forest','bird'\n",
        "path = Path('bird_or_not')\n",
        "\n",
        "for o in searches:\n",
        "    dest = (path/o)\n",
        "    dest.mkdir(exist_ok=True, parents=True)\n",
        "    download_images(dest, urls=search_images(f'{o} photo'))\n",
        "    resize_images(path/o, max_size=400, dest=path/o)"
      ],
      "metadata": {
        "execution": {
          "iopub.status.busy": "2022-04-26T09:12:56.484259Z",
          "iopub.execute_input": "2022-04-26T09:12:56.484594Z",
          "iopub.status.idle": "2022-04-26T09:14:22.355318Z",
          "shell.execute_reply.started": "2022-04-26T09:12:56.48456Z",
          "shell.execute_reply": "2022-04-26T09:14:22.354464Z"
        },
        "trusted": true,
        "id": "OTOf3lRh_zdh"
      },
      "execution_count": null,
      "outputs": []
    },
    {
      "cell_type": "markdown",
      "source": [
        "## Step 2: Train our model"
      ],
      "metadata": {
        "id": "M2mYteIj_zdi"
      }
    },
    {
      "cell_type": "markdown",
      "source": [
        "Some photos might not download correctly which could cause our model training to fail, so we'll remove them:"
      ],
      "metadata": {
        "id": "80DToSnK_zdi"
      }
    },
    {
      "cell_type": "code",
      "source": [
        "failed = verify_images(get_image_files(path))\n",
        "failed.map(Path.unlink)\n",
        "len(failed)"
      ],
      "metadata": {
        "execution": {
          "iopub.status.busy": "2022-04-26T09:15:22.4403Z",
          "iopub.execute_input": "2022-04-26T09:15:22.440963Z",
          "iopub.status.idle": "2022-04-26T09:15:23.213164Z",
          "shell.execute_reply.started": "2022-04-26T09:15:22.440928Z",
          "shell.execute_reply": "2022-04-26T09:15:23.212277Z"
        },
        "trusted": true,
        "id": "rjAY8nwe_zdi"
      },
      "execution_count": null,
      "outputs": []
    },
    {
      "cell_type": "markdown",
      "source": [
        "To train a model, we'll need `DataLoaders`, which is an object that contains a *training set* (the images used to create a model) and a *validation set* (the images used to check the accuracy of a model -- not used during training). \n",
        "\n",
        "> It is a construct that is used by PyTorch to iterate through and grab a section of data at a time. \n",
        "\n",
        "> `DataBlock` is an intermediate level API that can handle multiple types of ML problems (i.e. inputs and outputs). For the common types, fastai provides specialised APIs (like `SegmentationDataLoaders`) to construct `DataLoaders` with even less code.\n",
        "\n",
        "> Unlike image data which consists of images and every image is similar in terms of its technical constituents (like RGB colours), each tabular data is defined by the columns (also called *features*) and hence is different. So, when running a fastai learner on tabular data, the method that is called is `fit_one_cycle()` and not `fine_tune()` as is the case for image data.\n",
        "\n",
        "> Jeremy suggests the following rule of thumb to decide if our problem can be solved effectively with deep learning - if it is a task that a human, even an expert, can do reasonably quickly (like identifying a scene in an image), deep learning will be able to automate the task but if the task requires lots of logical thought process over an extended period of time with not much data (like predicting an election), deep learning won't be a good fit.\n",
        "\n",
        "In `fastai` we can create that easily using a `DataBlock`, and view sample images from it:"
      ],
      "metadata": {
        "id": "jhpS0rCG_zdi"
      }
    },
    {
      "cell_type": "code",
      "source": [
        "dls = DataBlock(\n",
        "    blocks=(ImageBlock, CategoryBlock), \n",
        "    get_items=get_image_files, \n",
        "    splitter=RandomSplitter(valid_pct=0.2, seed=42),\n",
        "    get_y=parent_label,\n",
        "    item_tfms=[Resize(192, method='squish')]\n",
        ").dataloaders(path)\n",
        "\n",
        "dls.show_batch(max_n=6)"
      ],
      "metadata": {
        "execution": {
          "iopub.status.busy": "2022-04-26T09:19:49.701335Z",
          "iopub.execute_input": "2022-04-26T09:19:49.70184Z",
          "iopub.status.idle": "2022-04-26T09:19:53.271986Z",
          "shell.execute_reply.started": "2022-04-26T09:19:49.701807Z",
          "shell.execute_reply": "2022-04-26T09:19:53.271316Z"
        },
        "trusted": true,
        "id": "xKWNP1zC_zdi"
      },
      "execution_count": null,
      "outputs": []
    },
    {
      "cell_type": "markdown",
      "source": [
        "Here what each of the `DataBlock` parameters means:\n",
        "\n",
        "    blocks=(ImageBlock, CategoryBlock),\n",
        "\n",
        "The inputs to our model are images, and the outputs are categories (in this case, \"bird\" or \"forest\").\n",
        "\n",
        "    get_items=get_image_files, \n",
        "\n",
        "To find all the inputs to our model, run the `get_image_files` function (which returns a list of all image files in a path).\n",
        "\n",
        "    splitter=RandomSplitter(valid_pct=0.2, seed=42),\n",
        "\n",
        "Split the data into training and validation sets randomly, using 20% of the data for the validation set.\n",
        "\n",
        "    get_y=parent_label,\n",
        "\n",
        "The labels (`y` values) is the name of the `parent` of each file (i.e. the name of the folder they're in, which will be *bird* or *forest*).\n",
        "\n",
        "    item_tfms=[Resize(192, method='squish')]\n",
        "\n",
        "Before training, resize each image to 192x192 pixels by \"squishing\" it (as opposed to cropping it)."
      ],
      "metadata": {
        "id": "V-CarUYg_zdi"
      }
    },
    {
      "cell_type": "markdown",
      "source": [
        "Now we're ready to train our model. The fastest widely used computer vision model is `resnet18`. You can train this in a few minutes, even on a CPU! (On a GPU, it generally takes under 10 seconds...)\n",
        "\n",
        "> In fastai's parlance, a *learner* is a construct that combines a model and the data used to train the model.\n",
        "\n",
        "`fastai` comes with a helpful `fine_tune()` method which automatically uses best practices for fine tuning a pre-trained model, so we'll use that."
      ],
      "metadata": {
        "id": "jz4G4GKP_zdj"
      }
    },
    {
      "cell_type": "code",
      "source": [
        "learn = vision_learner(dls, resnet18, metrics=error_rate)\n",
        "learn.fine_tune(3)"
      ],
      "metadata": {
        "execution": {
          "iopub.status.busy": "2022-04-26T09:23:43.887451Z",
          "iopub.execute_input": "2022-04-26T09:23:43.8881Z",
          "iopub.status.idle": "2022-04-26T09:24:00.536323Z",
          "shell.execute_reply.started": "2022-04-26T09:23:43.888058Z",
          "shell.execute_reply": "2022-04-26T09:24:00.535598Z"
        },
        "trusted": true,
        "id": "9YQkofCu_zdj"
      },
      "execution_count": null,
      "outputs": []
    },
    {
      "cell_type": "markdown",
      "source": [
        "Generally when I run this I see 100% accuracy on the validation set (although it might vary a bit from run to run).\n",
        "\n",
        "\"Fine-tuning\" a model means that we're starting with a model someone else has trained using some other dataset (called the *pretrained model*), and adjusting the weights a little bit so that the model learns to recognise your particular dataset. In this case, the pretrained model was trained to recognise photos in *imagenet*, and widely-used computer vision dataset with images covering 1000 categories) For details on fine-tuning and why it's important, check out the [free fast.ai course](https://course.fast.ai/)."
      ],
      "metadata": {
        "id": "TonewgXx_zdj"
      }
    },
    {
      "cell_type": "markdown",
      "source": [
        "## Step 3: Use our model (and build your own!)"
      ],
      "metadata": {
        "id": "fH_llmeg_zdj"
      }
    },
    {
      "cell_type": "markdown",
      "source": [
        "Let's see what our model thinks about that bird we downloaded at the start:"
      ],
      "metadata": {
        "id": "w9msfOS9_zdj"
      }
    },
    {
      "cell_type": "code",
      "source": [
        "is_bird,_,probs = learn.predict(PILImage.create('bird.jpg'))\n",
        "print(f\"This is a: {is_bird}.\")\n",
        "print(f\"Probability it's a bird: {probs[0]:.4f}\")"
      ],
      "metadata": {
        "execution": {
          "iopub.status.busy": "2022-04-24T01:12:03.125297Z",
          "iopub.execute_input": "2022-04-24T01:12:03.125561Z",
          "iopub.status.idle": "2022-04-24T01:12:03.369421Z",
          "shell.execute_reply.started": "2022-04-24T01:12:03.125525Z",
          "shell.execute_reply": "2022-04-24T01:12:03.368491Z"
        },
        "trusted": true,
        "id": "ck9Yyo0m_zdj"
      },
      "execution_count": null,
      "outputs": []
    },
    {
      "cell_type": "markdown",
      "source": [
        "Good job, resnet18. :)\n",
        "\n",
        "So, as you see, in the space of a few years, creating computer vision classification models has gone from \"so hard it's a joke\" to \"trivially easy and free\"!\n",
        "\n",
        "It's not just in computer vision. Thanks to deep learning, computers can now do many things which seemed impossible just a few years ago, including [creating amazing artworks](https://openai.com/dall-e-2/), and [explaining jokes](https://www.datanami.com/2022/04/22/googles-massive-new-language-model-can-explain-jokes/). It's moving so fast that even experts in the field have trouble predicting how it's going to impact society in the coming years.\n",
        "\n",
        "One thing is clear -- it's important that we all do our best to understand this technology, because otherwise we'll get left behind!"
      ],
      "metadata": {
        "id": "c099R1P4_zdj"
      }
    },
    {
      "cell_type": "markdown",
      "source": [
        "Now it's your turn. Click \"Copy & Edit\" and try creating your own image classifier using your own image searches!\n",
        "\n",
        "If you enjoyed this, please consider clicking the \"upvote\" button in the top-right -- it's very encouraging to us notebook authors to know when people appreciate our work."
      ],
      "metadata": {
        "id": "Si2ilfrw_zdk"
      }
    }
  ]
}